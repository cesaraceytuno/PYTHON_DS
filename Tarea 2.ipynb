{
 "cells": [
  {
   "cell_type": "markdown",
   "metadata": {},
   "source": [
    "# Tarea 2\n",
    "\n",
    "# Resumen Curso GIT\n",
    "\n",
    "El modelo de datos utilizado por GIT esta compuesto por **Trees** (representan directorios) y **Blobs** (representan archivos dentro de un directorio).  GIT utiliza DAG (Directed Aciclic Graph) para el almacenamiento de historia de los diferentes snapshots realizados a un directorio raiz.\n",
    "\n",
    "![title](graph.jpg)\n",
    "\n",
    "Cada uno de los nodos dentro del grafo refresentan un snapshot realizado a un directorio raiz.  Cada uno de estos snapshots son llamados formalmente como **commits**.  Dentro de cada commit existen los siguientes componentes:\n",
    "* Padres (Array de commits)\n",
    "* Autor\n",
    "* Mensaje\n",
    "* Contenido de snapshot (directorio raiz)\n",
    "\n",
    "## Comandos:\n",
    "\n",
    "* **git init**: Inicializa un repositorio git sobre el folder en el que fue ejecutado el comando\n",
    "\n",
    "Git posee un staging area para darnos flexibilidad al momento de hacer un snapshot (commit), por ejemplo que incluir o no dentro del mismo.\n",
    "\n",
    "* **git status**: Permite conocer que archivos y/o directorios estan contenidos en el staging area\n",
    "\n",
    "* **git add \\<archivo>**: Permite incluir el archivo dentro del staging area\n",
    "\n",
    "* **git commit -m \\<mensaje>**: Crea un snapshot de los archivos incluidos en el staging area\n",
    "\n",
    "* **git log --all --graph --decorate --oneline**: Permite ver el historial de snapshots como un grafo\n",
    "\n",
    "La rama **Master** es creada por defecto al inicializar el repositorio y usualmente se refiere a la linea principal de desarrollo\n",
    "\n",
    "* **git checkout \\<hash|nombre de rama>**: Permite ir al snapshot referenciado por el hash o el nombre de la rama\n",
    "\n",
    "* **git diff \\<archivo>**: Permite ver que cambios han ocurrido dentro de un archivo respecto a algun otro snapshot\n",
    "\n",
    "* **git branch**: Permite ver las ramas que existen en repositorio\n",
    "\n",
    "* **git branch \\<nombre>**: Crea una nueva rama a partir del snapshot en donde esta el HEAD\n",
    "\n",
    "* **git merge \\<nombre de rama>**: Permite unir ramas de desarrollo hacia nuestro rama principal (Master)\n",
    "\n",
    "* **git remote**: Enlista los repositorios con los cuales se puede colaborar. En el caso de GITHUB, este se tendria que agregar para colaborar y mantener una copia del repositorio en Github y no unicamente en la maquina local\n",
    "\n",
    "* **git remote add \\<nombre> \\<ruta>**: Agrega un repositorio remote\n",
    "\n",
    "* **git push \\<remote> \\<local branch>:\\<remote branch>**: Crea una nueva rama del local branch dentro del repositorio remoto\n",
    "\n",
    "* **git clone \\<ruta> \\<folder>**: Crea una copia entera de un repositorio remoto dentro de un folder local\n",
    "\n",
    "* **git fetch**: Descarga cambios que han ocurrido en el repositorio local\n",
    "\n",
    "* **git config**: Permite personalizar la configuracion en la que trabaja GIT\n"
   ]
  },
  {
   "cell_type": "markdown",
   "metadata": {},
   "source": [
    "## Ejemplos:"
   ]
  },
  {
   "cell_type": "code",
   "execution_count": null,
   "metadata": {},
   "outputs": [],
   "source": []
  }
 ],
 "metadata": {
  "kernelspec": {
   "display_name": "Python 3",
   "language": "python",
   "name": "python3"
  },
  "language_info": {
   "codemirror_mode": {
    "name": "ipython",
    "version": 3
   },
   "file_extension": ".py",
   "mimetype": "text/x-python",
   "name": "python",
   "nbconvert_exporter": "python",
   "pygments_lexer": "ipython3",
   "version": "3.8.5"
  }
 },
 "nbformat": 4,
 "nbformat_minor": 4
}

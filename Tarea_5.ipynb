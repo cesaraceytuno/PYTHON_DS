{
 "cells": [
  {
   "cell_type": "markdown",
   "metadata": {},
   "source": [
    "# Tarea No. 5"
   ]
  },
  {
   "cell_type": "code",
   "execution_count": 18,
   "metadata": {},
   "outputs": [],
   "source": [
    "import numpy as np\n",
    "import matplotlib.pyplot as plt"
   ]
  },
  {
   "cell_type": "markdown",
   "metadata": {},
   "source": [
    "**Ejercicio 1:** en data science y programación científica es común necesitar vectores con valores dentro de cierto intervalo, pero con sub-intervalos internos con diference espaciamiento ,por ejemplo:\n",
    "\n",
    "[0.  , 0.1 , 0.2 , 0.3 , 0.4 , 0.5 , 0.51, 0.52, 0.53, 0.54, 0.55,\n",
    "       0.56, 0.57, 0.58, 0.59, 0.6 , 0.7 , 0.8 , 0.9 , 1.  ]\n",
    "       \n",
    "El primer sub-intervalo incrementa de 0.1 en 0.1 , el segundo de 0.01 en 0.01 , y el tercero de 0.1 en 0.1 nuevamente.\n",
    "\n",
    "Usando unicamente NumPy crea un vector de este tipo con el nombre xs .\n",
    "\n",
    "**nota**: no es permitido usar ciclos, debe realizarse con operaciones \"vectorizadas\" de numpy"
   ]
  },
  {
   "cell_type": "code",
   "execution_count": 14,
   "metadata": {},
   "outputs": [
    {
     "data": {
      "text/plain": [
       "array([0.  , 0.1 , 0.2 , 0.3 , 0.4 , 0.5 , 0.51, 0.52, 0.53, 0.54, 0.55,\n",
       "       0.56, 0.57, 0.58, 0.59, 0.6 , 0.7 , 0.8 , 0.9 , 1.  ])"
      ]
     },
     "execution_count": 14,
     "metadata": {},
     "output_type": "execute_result"
    }
   ],
   "source": [
    "v1 = np.arange(0,0.51,0.1)\n",
    "v2 = np.arange(0.51,0.60,0.01)\n",
    "v3 = np.arange(0.60,1.01,0.1)\n",
    "np.hstack((v1,v2,v3))"
   ]
  },
  {
   "cell_type": "markdown",
   "metadata": {},
   "source": [
    "**Ejercicio 2:** En este caso usamos un ciclo  para ejemplificar pero ya hemos mencionado que debemos evitarlos siempre que sea posible y usar operaciones \"vectorizadas\" ya que es mucho mas rápido al utilizar  código pre-compilado de C, en este ejercicio debemos remplazar el calculo de ys para hacerlo de manera \"vectorizada\" y eliminar el ciclo for. \n",
    "\n",
    "**tip**: usar slicing"
   ]
  },
  {
   "cell_type": "code",
   "execution_count": 97,
   "metadata": {
    "scrolled": false
   },
   "outputs": [
    {
     "data": {
      "image/png": "[encoded data removed]",
      "text/plain": [
       "<Figure size 432x288 with 1 Axes>"
      ]
     },
     "metadata": {
      "needs_background": "light"
     },
     "output_type": "display_data"
    }
   ],
   "source": [
    "sample_points = 10000\n",
    "inicio_intervalo = 0\n",
    "ruido = 0.5*np.random.randn(sample_points) #el ruido comunmente se debe a aleatoriedad o captura no exacta de info.\n",
    "x = np.linspace(inicio_intervalo,5*np.pi,sample_points) \n",
    "y = np.sin(x) + ruido\n",
    "\n",
    "#implementacion de suavizamiento sin for\n",
    "n = np.arange(1,len(y)-1)\n",
    "n_menos_1 = n - 1\n",
    "n_mas_1 = n + 1\n",
    "ys = (y[n_menos_1] + y[n] + y[n_mas_1])/3\n",
    "ys = np.hstack((y[0],ys,y[-1]))\n",
    "#fin de implementacion\n",
    "\n",
    "plt.plot(x,y)\n",
    "plt.plot(x,ys)\n",
    "plt.xlim(inicio_intervalo,5*np.pi + 0.5)\n",
    "plt.show()"
   ]
  },
  {
   "cell_type": "markdown",
   "metadata": {},
   "source": [
    "**Ejercicio 3:** Para calcular la información de una distribución de probabilidad necesitamos calcular el producto entre la información de cada posible x y su probabilidad , cada uno de estos elementos nos indica cuanta incerteza aporta cada x a la entropía de la distribución. Crea una función que calcule esto, debe recibir un vector representando a la dist. de probabilidad y devoler otro vector con el termino de entropía para cada x. Por ejemplo:\n",
    "\n",
    "calcular_entropia([0.25,0.75])\n",
    "\n",
    "Debe resultar en :\n",
    "\n",
    "[0.5    ,    0.31127812]\n",
    "\n",
    "**Nota**: la entropía es la suma sobre estos valores, en este caso no calculamos la entropía,unicamente los termimos de su sumatoria. La entropía es:\n",
    "\n",
    "$$S = -\\sum_i^nP(x_{i})log_{2}P(x_{i})$$"
   ]
  },
  {
   "cell_type": "code",
   "execution_count": 127,
   "metadata": {},
   "outputs": [
    {
     "name": "stdout",
     "output_type": "stream",
     "text": [
      "[0.5        0.31127812]\n"
     ]
    }
   ],
   "source": [
    "def calcular_entropia(px):\n",
    "    return px*np.log2(px)*-1\n",
    "\n",
    "print(calcular_entropia([0.25,0.75]))"
   ]
  },
  {
   "cell_type": "markdown",
   "metadata": {},
   "source": [
    "**Ejercicio 4:** se ha determinado también que hay costos asociados a la comunicación y relación con los clientes(llamadas,mensajes electrónicos,etc) y que estos también tienen alta correlación con el monto que estos gastan en su primer més siguiendo el modelo:\n",
    "$$c(x) = (x^{2} + x + log (0.0001x)-\\sqrt{0.54x})/100$$\n",
    "\n",
    "Cree una función para calcular este modelo sobre valores de de gasto de nuevos clientes , y luego cree una función  **ganancia_neta(x,g,c)** donde:\n",
    "* x = vector conteniendo los valores de gasto del primer mes para nuevos clientes.\n",
    "* g = función que estima la ganancia en función de x\n",
    "* c = función que estima el costo en función de x\n",
    "\n",
    "La función realiza el calculo simple **g(x) - c(x)** , ya que es posible que los modelos cambien en el tiempo es común recibir como parámetro el modelo o modelos hijos de un modelo mas grande , en este caso eso se logra recibiendo como parámetro las funciones de ganancia y costo."
   ]
  },
  {
   "cell_type": "code",
   "execution_count": 99,
   "metadata": {},
   "outputs": [
    {
     "name": "stdout",
     "output_type": "stream",
     "text": [
      "[20298.85689469  2574.42504495   330.9752857  20298.85689469]\n"
     ]
    }
   ],
   "source": [
    "gastos = np.array([100,50,25,100])\n",
    "\n",
    "def g(x):    \n",
    "    ganancia = (np.power(x,3) + 2.0*(np.power(x,2.0))+np.exp(0.0001*x) - np.sqrt(2.0*x))/50    \n",
    "    return ganancia\n",
    "\n",
    "def c(x):\n",
    "    costo = ((np.power(x,2)) + x + (np.log(0.0001*x)) - (np.sqrt(0.54*x)))/100\n",
    "    return costo\n",
    "\n",
    "def ganancia_neta(x,g,c):\n",
    "    return g(x) - c(x)\n",
    "\n",
    "print(ganancia_neta(gastos,g,c))"
   ]
  },
  {
   "cell_type": "markdown",
   "metadata": {},
   "source": [
    "**Ejercicio 5:** en este ejercicio necesitamos determinar el \"lifetime value\" de cierto usuario en su 6to mes:"
   ]
  },
  {
   "cell_type": "code",
   "execution_count": 100,
   "metadata": {},
   "outputs": [
    {
     "name": "stdout",
     "output_type": "stream",
     "text": [
      "Lifetime value: [ 25 175 300 375 475 520 542 572]\n",
      "El valor del usuario a su sexto mes es : 520\n"
     ]
    }
   ],
   "source": [
    "def lifetime_value(ganancias_mensuales):\n",
    "    ## tu codigo aqui(~ 1 linea de codigo):\n",
    "    return np.cumsum(ganancias_mensuales)\n",
    "\n",
    "# Prueba:\n",
    "ganancias_usuario = np.array([25,150,125,75,100,45,22,30])\n",
    "lifetime_value_usuario = lifetime_value(ganancias_usuario)\n",
    "\n",
    "print(\"Lifetime value:\",lifetime_value_usuario)\n",
    "\n",
    "print(\"El valor del usuario a su sexto mes es :\",lifetime_value_usuario[5])"
   ]
  },
  {
   "cell_type": "markdown",
   "metadata": {},
   "source": [
    "**Ejercicio 6:** Usando argmax crear una función mode(x) para calcular la moda de un vector x , esta función debe devolver una tupla de 2 elementos de la forma:\n",
    "\n",
    "(valor,conteo)\n",
    "\n",
    "**tip** investigar y auxiliarse de otras funciones de numpy y np.argmax, no olvidar trabajar todo vectorizado, sin ciclos."
   ]
  },
  {
   "cell_type": "code",
   "execution_count": 125,
   "metadata": {},
   "outputs": [
    {
     "name": "stdout",
     "output_type": "stream",
     "text": [
      "('a', 4)\n"
     ]
    }
   ],
   "source": [
    "def mode(x):\n",
    "    ## tu codigo aqui (~ 3 lineas de codigo):\n",
    "    elemento, conteo = np.unique(x, return_counts=True)\n",
    "    return elemento[np.argmax(conteo)], max(conteo)\n",
    "\n",
    "x = np.array([1,\"a\",2,3,5,\"a\",\"a\",3,4,4,2,4,\"a\"])\n",
    "print(mode(x))"
   ]
  },
  {
   "cell_type": "markdown",
   "metadata": {},
   "source": [
    "**Ejercicio 7:** : crear una función para calcular la entropía  de una distribución de probabilidad representada como un vector.\n",
    "$$S = -\\sum_i^nP(x_{i})log_{2}P(x_{i})$$\n",
    "\n",
    "**Nota**: a diferencia del ejercicio anterior donde solo calculamos los términos de la entropía, en este caso  si calculamos el valor completo de la entropía, que como mencionamos es una medida de incerteza en una distribución de probabilidad.\n",
    "\n",
    "**recordatorio**: no usar ciclos solo operaciones vectorizadas."
   ]
  },
  {
   "cell_type": "code",
   "execution_count": 130,
   "metadata": {},
   "outputs": [
    {
     "name": "stdout",
     "output_type": "stream",
     "text": [
      "0.8112781244591328\n"
     ]
    }
   ],
   "source": [
    "def entropia(px):\n",
    "    return np.sum(px*np.log2(px)*-1)\n",
    "\n",
    "print(entropia([0.25,0.75]))"
   ]
  },
  {
   "cell_type": "markdown",
   "metadata": {},
   "source": [
    "**Ejercicio 8:** En ML usamos la entropía cruzada como una forma de medir que tan bueno es un modelo de variables discretas a través de comparar la distribución de probabilidad que el modelo produce o predice, vs la distribución de probabilidad real dada por los datos de entrenamiento.\n",
    "\n",
    "Podemos ver el siguiente ejemplo que define la forma en que se calcula la entropía cruzada y nos muestra un caso específico:\n",
    "\n",
    "<img src=\"https://image.slidesharecdn.com/publishintroductiontodeeplearninginpythonandmatlab1-160502102437/95/introduction-to-deep-learning-in-python-and-matlab-54-638.jpg?cb=1462185644\">\n",
    "\n",
    "En este caso interpretamos así: El problema consiste en un modelo o algoritmo de ML que debe producir un vector de 3 elementos indicando la probabilidad de que ciertos datos X pertenezcan a una de 3 categorías.\n",
    "\n",
    "* El modelo de ML produce un vector que indica que estima un 70% de probabilidad de que se trate de la categoría 0, 20% de probabilidad de que se trate de la categoría 1 y 10% de que se trate de la categoría 2.\n",
    "* Los datos reales nos dicen que se trataba de un caso donde con total certeza se sabe que se trata de la categoría 0\n",
    "* La entropía cruzada(a calcular en el ejercicio) nos indica que tan buena es la estimación del modelo, una EC de 0 es un modelo perfecto(en este caso un modelo que predice 100% de prob para la clase 0)\n",
    "\n",
    "**Nota** \n",
    "* Aun que para calcular la entropía usamos logaritmos en base 2, en ML para calcular la entropía cruzada se usa logaritmo natural ya que con este se cumple el proposito **estimar que tanto se alejan las predicciones del modelo de ML de los datos reales** y es comunmente mas rápido de calcular en la computadora.\n",
    "* Ya que estamos trabajando con vectores que representan distribuciones de probabilidad , podemos toparnos con lo que se conoce como : **sparse vectors**(vectores donde la mayoría de elementos son 0), esto puede producir problemas ya que le logaritmo de 0 no esta definido, tu solución debe tomar en cuenta esto y evitar que devuelva \"nan\""
   ]
  },
  {
   "cell_type": "code",
   "execution_count": 146,
   "metadata": {
    "scrolled": true
   },
   "outputs": [
    {
     "data": {
      "text/plain": [
       "0.0"
      ]
     },
     "execution_count": 146,
     "metadata": {},
     "output_type": "execute_result"
    }
   ],
   "source": [
    "def cross_entropy(Y,Y_hat):\n",
    "    ##tu codigo aqui (~ 1 lineas de codigo)\n",
    "    return np.sum(Y_hat*np.log(Y,out=np.zeros_like(Y), where=(Y!=0))*-1)\n",
    "    \n",
    "\n",
    "y  = np.array([1.0,0,0])\n",
    "y_hat = np.array([0.7,0.2,0.1])\n",
    "\n",
    "cross_entropy(y,y_hat)"
   ]
  },
  {
   "cell_type": "markdown",
   "metadata": {},
   "source": [
    "**Ejercicio 9:** crear una función que reciba como parámetro un vector x y calcule su magnitud o norma(euclidiana o L2) ,luego usarla para evaluar 2 vectores que representan los errores generados por 2 modelos de machine learning y concluir cual de los 2 modelos es mejor."
   ]
  },
  {
   "cell_type": "code",
   "execution_count": 147,
   "metadata": {},
   "outputs": [
    {
     "name": "stdout",
     "output_type": "stream",
     "text": [
      "3.1622776601683795 2.449489742783178\n",
      "El mejor modelo es el modelo 2\n"
     ]
    }
   ],
   "source": [
    "def magnitud(x):\n",
    "    ## tu codigo aqui (~ 1 linea de codigo)\n",
    "    return np.sqrt(np.sum(np.power(x,2)))\n",
    "\n",
    "errores_modelo1 = np.array([1,2,1,2])\n",
    "errores_modelo2 = np.array([0,1,1,2])\n",
    "\n",
    "norma_modelo1 = magnitud(errores_modelo1)\n",
    "norma_modelo2 = magnitud(errores_modelo2)\n",
    "print(norma_modelo1, norma_modelo2)\n",
    "if norma_modelo1 < norma_modelo2:\n",
    "    print(\"El mejor modelo es el modelo 1\")\n",
    "else:\n",
    "    print(\"El mejor modelo es el modelo 2\")"
   ]
  },
  {
   "cell_type": "markdown",
   "metadata": {},
   "source": [
    "**Ejercicio 10:** Usando la función del ejercicio anterior, crea otra función normalizar(x) que reciba de parámetro un vector x aplique normalización sobre este, el resultado debe ser un nuevo vector del tamaño de x cuya magnitud es igual a 1.0"
   ]
  },
  {
   "cell_type": "code",
   "execution_count": 148,
   "metadata": {},
   "outputs": [
    {
     "name": "stdout",
     "output_type": "stream",
     "text": [
      "1.0\n",
      "[0.         0.40824829 0.40824829 0.81649658]\n"
     ]
    }
   ],
   "source": [
    "def normalizar(x):\n",
    "    ## tu codigo aqui (~ 3 linea de codigo)\n",
    "    return x/magnitud(x)\n",
    "    \n",
    "    \n",
    "\n",
    "print(magnitud(normalizar(errores_modelo1)))\n",
    "print(normalizar(errores_modelo2))"
   ]
  },
  {
   "cell_type": "markdown",
   "metadata": {},
   "source": [
    "**Ejercicio 11:**\n",
    "Se tiene una red neuronal sencilla(y simplificada) como la de la siguiente imagen:\n",
    "<img src=\"https://www.oreilly.com/library/view/practical-convolutional-neural/9781788392303/assets/246151fb-7893-448d-b9bb-7a87b387a24b.png\">\n",
    "\n",
    "Donde:\n",
    "* INPUT LAYER: un vector X de tamaño = 2 que representa los datos de entrada\n",
    "* HIDDEN_LAYER :capa oculta con 2 neuronas definidas por los vectores:\n",
    "    * HL1 = [0.25,0.37]\n",
    "    * HL2 = [-8,14]\n",
    "* OUTPUT_LAYER = capa de salida definida por el vector [4,9]\n",
    "\n",
    "Crear una funcion neural_network(X) para calcular:\n",
    "* Calcule la salida de cada neurona en la capa intermedia aplicada a la capa de entrada.\n",
    "* Use el resultado del paso anterior como entrada para la neurona en la capa de salida\n",
    "\n",
    "Asumiendo que cada neurona identifica la similitud entre su entrada y la caracteística que representa concluir:\n",
    "* Para cada vector de entrada Xi , cual neurona intermedia busca la característica que mas se parece a X.\n",
    "* Cual vector de entrada Xi produce una activación alta(salida alta) en la capa de salida."
   ]
  },
  {
   "cell_type": "code",
   "execution_count": 150,
   "metadata": {
    "scrolled": true
   },
   "outputs": [
    {
     "name": "stdout",
     "output_type": "stream",
     "text": [
      "[0.39139999999999997, 6.08]\n",
      "56.2856\n",
      "[1.5899999999999999, 130]\n",
      "1176.36\n",
      "[0.0, 0]\n",
      "0.0\n",
      "[0.62, 6.0]\n",
      "56.48\n",
      "[-0.37235137292039816, -8.759862935523996]\n",
      "-80.32817191139756\n"
     ]
    }
   ],
   "source": [
    "# Aplicar la red neuronal sobre los siguientes datos X\n",
    "\n",
    "X1 = np.array([0.50,0.72])\n",
    "X2 = np.array([-4,7])\n",
    "X3 = np.zeros_like(X2)\n",
    "X4 = np.ones_like(X1)\n",
    "X5 = np.random.randn(X1.shape[0])\n",
    "\n",
    "def neural_network(x):\n",
    "    HL1 = np.array([0.25,0.37])\n",
    "    HL2 = np.array([-8,14])\n",
    "    OUTPUT_LAYER = np.array([4,9])\n",
    "    HL_R = []\n",
    "    input_layer = np.array(x)\n",
    "    HL_R.append(np.dot(input_layer,HL1))\n",
    "    HL_R.append(np.dot(input_layer,HL2))\n",
    "    print(HL_R)\n",
    "    return np.dot(HL_R,OUTPUT_LAYER)\n",
    "\n",
    "print(neural_network(X1))\n",
    "print(neural_network(X2))\n",
    "print(neural_network(X3))\n",
    "print(neural_network(X4))\n",
    "print(neural_network(X5))\n",
    "\n",
    "# LA PRIMERA NEURONA PRODUCE UNA MAYOR SIMILITUD CON LA ENTRADA\n",
    "# X2 PRODUCE LA ACTIVACION MAS ALTA EN LA CAPA DE SALIDA"
   ]
  },
  {
   "cell_type": "markdown",
   "metadata": {},
   "source": [
    "**Ejercicio 12:** En este ejercicio usamos correlación cruzada para calcular las medias moviles promediando 3 puntos que ya vimos en otro ejemplo:\n",
    "\n",
    "El primer paso es definir la función G que define el \"filtro\" a aplicar, para este caso consiste simplemente en un vector con 3 elementos donde cada elemento corresponde a 1/3, luego debemos aplicar el producto punto sobre cada punto de la función o datos originales(en este ejemplo llamados x) a traves aplicar el producto punto en cada elemento \"corriendolo\" de uno en uno"
   ]
  },
  {
   "cell_type": "code",
   "execution_count": 151,
   "metadata": {},
   "outputs": [
    {
     "name": "stdout",
     "output_type": "stream",
     "text": [
      "[ 0.38582688  0.68167396  0.90098432  0.95692531  0.7920284   0.49613496\n",
      "  0.03636148 -0.38817597 -0.76361855 -0.96002483 -0.96031261 -0.77477081\n",
      " -0.46564816]\n"
     ]
    }
   ],
   "source": [
    "ruido = 0.1*np.random.randn(15) #el ruido comunmente se debe a aleatoriedad o captura no exacta de info.\n",
    "x = np.linspace(0,2*np.pi,15)\n",
    "y = np.sin(x) + ruido\n",
    "\n",
    "filtro = np.array([1/3,1/3,1/3])  #para lograr media movil de 3 puntos\n",
    "\n",
    "## tu codigo aqui (~ 3 linea de codigo)\n",
    "result = []\n",
    "for i in range(1,len(y)-1):\n",
    "    result.append(np.dot(y[i-1:i+2],filtro))\n",
    "print(np.array(result))"
   ]
  },
  {
   "cell_type": "markdown",
   "metadata": {},
   "source": [
    "**Ejercicio 13:** dado el vector x, usar operadores lógicos sobre vectores y acceso a  elementos usando vectores booleanos , escribir un programa que calcule eun nuevo vector z conteniendo el valor absoluto de el vector x.\n",
    "\n",
    "**nota** No se puede usar np.abs() ni ciclos\n",
    "\n",
    "**tip** usar un vector booleano para saber que elementos son negativos y deben ser multiplicados por -1"
   ]
  },
  {
   "cell_type": "code",
   "execution_count": 153,
   "metadata": {},
   "outputs": [
    {
     "name": "stdout",
     "output_type": "stream",
     "text": [
      "[-2.  -1.5 -1.  -0.5  0.   0.5  1.   1.5  2. ]\n",
      "[2.  1.5 1.  0.5 0.  0.5 1.  1.5 2. ]\n"
     ]
    }
   ],
   "source": [
    "x = np.linspace(-2,2,9)\n",
    "## tu codigo aqui (~ 4 linea de codigo)\n",
    "print(x)\n",
    "z = np.copy(x)\n",
    "z[z < 0] = z[z < 0]*-1\n",
    "print(z)"
   ]
  },
  {
   "cell_type": "markdown",
   "metadata": {},
   "source": [
    "**Ejercicio 14:** Implementar la función:\n",
    "$$h(x) = \\begin{cases}0 & x< 0\\\\1 & 0<=x <=1\\\\0 & x> 1\\end{cases}$$\n",
    "\n",
    "Esta debe funcionar para vectores de cualquier tamaño x:\n",
    "\n",
    "def h(x):\n",
    "\n",
    "    ...\n",
    "\n",
    "**nota** debe ser implementada sin ciclos o ifs "
   ]
  },
  {
   "cell_type": "code",
   "execution_count": 154,
   "metadata": {},
   "outputs": [
    {
     "name": "stdout",
     "output_type": "stream",
     "text": [
      "[ 0.1 -2.   0.5  5. ]\n",
      "[1. 0. 1. 0.]\n"
     ]
    }
   ],
   "source": [
    "def h(x):\n",
    "    ## tu codigo aqui (~ 3 linea de codigo)\n",
    "    result = np.copy(x)\n",
    "    result[x<0] = 0\n",
    "    result[(x>=0) & (x<= 1)] = 1\n",
    "    result[x>1] = 0\n",
    "\n",
    "    ##\n",
    "    return result\n",
    "\n",
    "x = np.array([0.1,-2,0.5,5])\n",
    "print(x)\n",
    "print(h(x))"
   ]
  },
  {
   "cell_type": "markdown",
   "metadata": {},
   "source": [
    "**Ejercicio 15:**\n",
    "\n",
    "Usando select implementar una función k(x) con la siguiente definición:\n",
    "$$k(x) = \\begin{cases}-x & x< 0\\\\x^{3}  &0<=x<1\\\\x^{2}  &1<=x<2\\\\4  &otherwise\\end{cases}$$"
   ]
  },
  {
   "cell_type": "code",
   "execution_count": 155,
   "metadata": {},
   "outputs": [
    {
     "name": "stdout",
     "output_type": "stream",
     "text": [
      "[-1.          0.22222222  1.44444444  2.66666667  3.88888889  5.11111111\n",
      "  6.33333333  7.55555556  8.77777778 10.        ]\n",
      "[ 1.          0.01097394  2.08641975 -4.         -4.         -4.\n",
      " -4.         -4.         -4.         -4.        ]\n"
     ]
    }
   ],
   "source": [
    "x = np.linspace(-1,10,10)\n",
    "condiciones = [x<0,(x>=0)&(x<1),(x>=1)&(x<2)]\n",
    "resultados =  [x*-1,  x**3, x**2]\n",
    "k = np.select(condiciones,resultados,-4)\n",
    "\n",
    "print(x)\n",
    "print(k)"
   ]
  },
  {
   "cell_type": "markdown",
   "metadata": {},
   "source": [
    "**Ejercicio 16:** \n",
    "Investigar piecewise y:\n",
    "*  Usarlo para implementar la función anterior de manera eficiente\n",
    "*  Usar piscewise para implementar la función:\n",
    "\n",
    "$$m(x) = \\begin{cases}e^{2x} & x< 0\\\\1  &0<=x<1\\\\e^{1-x}  &x>=1\\\\\\end{cases}$$\n",
    "\n",
    "Nuevamente, sin utilizar ciclos ni ifs"
   ]
  },
  {
   "cell_type": "code",
   "execution_count": 159,
   "metadata": {},
   "outputs": [
    {
     "name": "stdout",
     "output_type": "stream",
     "text": [
      "[-1.         -0.66666667 -0.33333333  0.          0.33333333  0.66666667\n",
      "  1.          1.33333333  1.66666667  2.        ]\n"
     ]
    },
    {
     "data": {
      "text/plain": [
       "array([0.13533528, 0.26359714, 0.51341712, 1.        , 1.        ,\n",
       "       1.        , 1.        , 0.71653131, 0.51341712, 0.36787944])"
      ]
     },
     "execution_count": 159,
     "metadata": {},
     "output_type": "execute_result"
    }
   ],
   "source": [
    "x = np.linspace(-1,2,10)\n",
    "print(x)\n",
    "np.piecewise(x,[x<0,(x>=0)&(x<1),x>=1],[lambda x: np.exp(2*x),1,lambda x: np.exp(1-x)])"
   ]
  }
 ],
 "metadata": {
  "kernelspec": {
   "display_name": "Python 3",
   "language": "python",
   "name": "python3"
  },
  "language_info": {
   "codemirror_mode": {
    "name": "ipython",
    "version": 3
   },
   "file_extension": ".py",
   "mimetype": "text/x-python",
   "name": "python",
   "nbconvert_exporter": "python",
   "pygments_lexer": "ipython3",
   "version": "3.8.5"
  }
 },
 "nbformat": 4,
 "nbformat_minor": 4
}
